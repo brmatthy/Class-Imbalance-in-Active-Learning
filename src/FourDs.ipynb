{
 "cells": [
  {
   "cell_type": "markdown",
   "metadata": {},
   "source": [
    "# FourDs"
   ]
  },
  {
   "cell_type": "markdown",
   "metadata": {},
   "source": [
    "We discovered that the MixtureModelClassifier doesn't perform very well. We would like to experiment somewhat further to discover why it does/does not.\n",
    "\n",
    "relevant articles:\n",
    "- [in depth](https://jakevdp.github.io/PythonDataScienceHandbook/05.12-gaussian-mixtures.html)"
   ]
  },
  {
   "cell_type": "code",
   "execution_count": 1,
   "metadata": {
    "pycharm": {
     "is_executing": true
    }
   },
   "outputs": [],
   "source": [
    "## Imports ##\n",
    "\n",
    "# numpy\n",
    "import numpy as np\n",
    "\n",
    "# matplotlib\n",
    "import matplotlib as mlp\n",
    "import matplotlib.pyplot as plt\n",
    "\n",
    "# sklearn\n",
    "from sklearn.linear_model import LogisticRegression\n",
    "from sklearn.datasets import make_classification\n",
    "from sklearn.mixture import BayesianGaussianMixture\n",
    "from sklearn.model_selection import train_test_split\n",
    "\n",
    "# skactiveml\n",
    "from skactiveml.classifier import SklearnClassifier, MixtureModelClassifier\n",
    "from skactiveml.pool import UncertaintySampling\n",
    "from skactiveml.pool import FourDs\n",
    "from skactiveml.utils import MISSING_LABEL\n",
    "\n",
    "# plot function\n",
    "from plot_accuracy import plot_accuracy\n",
    "\n",
    "# balanced accuracy\n",
    "from balanced_accuracy import balanced_accuracy\n",
    "\n",
    "# set warnings\n",
    "import warnings\n",
    "mlp.rcParams[\"figure.facecolor\"] = \"white\"\n",
    "warnings.filterwarnings(\"ignore\")"
   ]
  },
  {
   "cell_type": "markdown",
   "metadata": {},
   "source": [
    "We will compare the query by committee strategy against the standard uncertainty sampling."
   ]
  },
  {
   "cell_type": "code",
   "execution_count": 2,
   "metadata": {},
   "outputs": [],
   "source": [
    "def get_accuracy_uncertainty(classifier, weights=None, cycles=30, n_samples=400, **kwargs):\n",
    "    data = []\n",
    "    for rand in range(100):\n",
    "        qs = UncertaintySampling(random_state=rand, **kwargs)\n",
    "        X, y = make_classification(n_samples=n_samples, n_features=2, n_redundant=0, weights=weights, random_state=rand)\n",
    "        Xf, Xt, yf, yt = train_test_split(X, y, random_state=rand)\n",
    "        y = np.full(shape=yf.shape, fill_value=MISSING_LABEL)\n",
    "        out = []\n",
    "        clf = SklearnClassifier(classifier, classes=np.unique(yf))\n",
    "\n",
    "        clf.fit(Xf, y)\n",
    "        for _ in range(cycles):\n",
    "            i = qs.query(Xf, y, clf)\n",
    "            y[i] = yf[i]\n",
    "            clf.fit(Xf,y)\n",
    "            predicted_y = clf.predict(Xt)\n",
    "            out.append(balanced_accuracy(yt, predicted_y))\n",
    "        data.append(out)\n",
    "\n",
    "    return np.mean(np.array(data), axis=0)\n",
    "\n",
    "def get_accuracy_fourDs(weights=None, cycles=30, n_samples=400, **kwargs):\n",
    "    data = []\n",
    "    for rand in range(100):\n",
    "        qs = FourDs(random_state=rand, **kwargs)\n",
    "        X, y = make_classification(n_samples=n_samples, n_features=2, n_redundant=0, weights=weights, random_state=rand)\n",
    "        Xf, Xt, yf, yt = train_test_split(X, y, random_state=rand)\n",
    "        y = np.full(shape=yf.shape, fill_value=MISSING_LABEL)\n",
    "        out = []\n",
    "        mixture_model=BayesianGaussianMixture(n_components=20, covariance_type=\"full\", n_init=20)\n",
    "        clf = MixtureModelClassifier(mixture_model=mixture_model, classes=np.unique(yf))\n",
    "        clf.fit(Xf, y)\n",
    "        \n",
    "        for _ in range(cycles):\n",
    "            i = qs.query(Xf, y, clf)\n",
    "            y[i] = yf[i]\n",
    "\n",
    "            clf.fit(Xf,y)\n",
    "            predicted_y = clf.predict(Xt)\n",
    "            out.append(balanced_accuracy(yt, predicted_y))\n",
    "        data.append(out)\n",
    "\n",
    "    return np.mean(np.array(data), axis=0)"
   ]
  },
  {
   "cell_type": "code",
   "execution_count": 3,
   "metadata": {},
   "outputs": [],
   "source": [
    "acc_uncertainty = get_accuracy_uncertainty(LogisticRegression(), weights=[0.8, 0.2])"
   ]
  },
  {
   "cell_type": "code",
   "execution_count": null,
   "metadata": {},
   "outputs": [],
   "source": [
    "acc_fourDs = get_accuracy_fourDs(weights=[0.8, 0.2])"
   ]
  },
  {
   "cell_type": "code",
   "execution_count": null,
   "metadata": {},
   "outputs": [],
   "source": [
    "fig, axs = plt.subplots(nrows=1, ncols=1, figsize=(10, 6))\n",
    "\n",
    "plot_accuracy('Classifiers', [[acc_uncertainty, \"Uncertainty\"], [acc_fourDs, \"FourDs\"]], axs)\n",
    "\n",
    "fig.show()"
   ]
  }
 ],
 "metadata": {
  "kernelspec": {
   "display_name": "Python 3 (ipykernel)",
   "language": "python",
   "name": "python3"
  },
  "language_info": {
   "codemirror_mode": {
    "name": "ipython",
    "version": 3
   },
   "file_extension": ".py",
   "mimetype": "text/x-python",
   "name": "python",
   "nbconvert_exporter": "python",
   "pygments_lexer": "ipython3",
   "version": "3.11.6"
  }
 },
 "nbformat": 4,
 "nbformat_minor": 2
}
