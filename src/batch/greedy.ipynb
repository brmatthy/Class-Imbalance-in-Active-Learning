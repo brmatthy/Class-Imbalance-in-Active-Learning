{
 "cells": [
  {
   "cell_type": "markdown",
   "metadata": {},
   "source": [
    "# Greedy query strategies"
   ]
  },
  {
   "cell_type": "markdown",
   "metadata": {},
   "source": [
    "These strategies don't care what other samples have been picked. Just pick the top-K samples with the best score."
   ]
  },
  {
   "cell_type": "code",
   "execution_count": 181,
   "metadata": {},
   "outputs": [],
   "source": [
    "#imports\n",
    "import numpy as np\n",
    "\n",
    "# matplotlib\n",
    "import matplotlib as mlp\n",
    "import matplotlib.pyplot as plt\n",
    "\n",
    "import tensorflow as tf\n",
    "tf.get_logger().setLevel(tf.compat.v1.logging.ERROR)\n",
    "\n",
    "from skactiveml.classifier import SklearnClassifier\n",
    "from skactiveml.pool import UncertaintySampling\n",
    "from skactiveml.utils import MISSING_LABEL\n",
    "\n",
    "from sklearn.base import BaseEstimator, ClassifierMixin\n",
    "from sklearn.preprocessing import LabelBinarizer\n",
    "from sklearn.datasets import make_classification\n",
    "from sklearn.model_selection import train_test_split\n",
    "from sklearn.linear_model import LogisticRegression\n",
    "from sklearn.neural_network import MLPClassifier\n",
    "\n",
    "import warnings\n",
    "warnings.filterwarnings(\"ignore\")\n",
    "\n",
    "# https://stackoverflow.com/questions/8391411/how-to-block-calls-to-print\n",
    "import sys, os\n",
    "# Disable\n",
    "def blockPrint():\n",
    "    sys.stdout = open(os.devnull, 'w')\n",
    "\n",
    "# Restore\n",
    "def enablePrint():\n",
    "    sys.stdout = sys.__stdout__"
   ]
  },
  {
   "cell_type": "markdown",
   "metadata": {},
   "source": [
    "## Uncertainty-based strategy"
   ]
  },
  {
   "cell_type": "markdown",
   "metadata": {},
   "source": [
    "The first method is uncertainty-based. We will use a dropout turned on bayesian neural network as classifier. Given this clf we will compute.\n",
    "$$\n",
    "P(y|x) \\approx \\frac{1}{T} \\sum_{t=1}^T \\hat{P}(y|x, drop_t)\n",
    "$$\n",
    "This probability will then be used by the uncertainty query algorithm to pick the top k samples."
   ]
  },
  {
   "cell_type": "code",
   "execution_count": 138,
   "metadata": {},
   "outputs": [],
   "source": [
    "# Use tensor flow to create the network, wrap it with sklearn\n",
    "class DropoutBNN(BaseEstimator, ClassifierMixin):\n",
    "    def __init__(self, hidden_layers_sizes=(10,), dropout_rate=0.5, learning_rate=0.001, epochs=10, T=10):\n",
    "        self.hidden_layers_sizes = hidden_layers_sizes\n",
    "        self.dropout_rate = dropout_rate\n",
    "        self.learning_rate = learning_rate\n",
    "        self.epochs = epochs\n",
    "        self.T = T\n",
    "\n",
    "    def build_model(self, input_dim, num_classes):\n",
    "        model = tf.keras.Sequential()\n",
    "        # create input layer\n",
    "        model.add(tf.keras.layers.Input(shape=(input_dim,)))\n",
    "\n",
    "        # create hidden layer with dropout\n",
    "        for layer_size in self.hidden_layers_sizes:\n",
    "            model.add(tf.keras.layers.Dense(layer_size, activation='relu'))\n",
    "            model.add(tf.keras.layers.Dropout(self.dropout_rate))\n",
    "\n",
    "        # create output layer\n",
    "        model.add(tf.keras.layers.Dense(num_classes, activation='softmax'))\n",
    "        model.compile(optimizer=tf.keras.optimizers.Adam(learning_rate=self.learning_rate),\n",
    "                      loss='categorical_crossentropy',\n",
    "                      metrics=['accuracy'])\n",
    "        return model\n",
    "\n",
    "    def fit(self, X, y):\n",
    "        # needed for the skactiveml wrapper\n",
    "        self.classes_ = np.unique(y)\n",
    "\n",
    "        self.input_dim = X.shape[1]\n",
    "        self.num_classes = len(np.unique(y))\n",
    "\n",
    "        self.lb = LabelBinarizer()\n",
    "        y_one_hot = self.lb.fit_transform(y) \n",
    "\n",
    "        # create model and fit\n",
    "        self.model = self.build_model(self.input_dim, self.num_classes)\n",
    "        self.model.fit(X, y_one_hot, epochs=self.epochs, verbose=0)\n",
    "\n",
    "    def predict_proba(self, X):\n",
    "        # predict T times and get mean\n",
    "        prob_sum = np.zeros((X.shape[0], self.num_classes))\n",
    "\n",
    "        for _ in range(self.T):\n",
    "            prob_sum += self.model.predict(X)\n",
    "\n",
    "        return prob_sum / self.T\n",
    "\n",
    "    def predict(self, X):\n",
    "        # get probailities, return most likely label\n",
    "        predictions = self.predict_proba(X)\n",
    "        return np.argmax(predictions, axis=1)\n",
    "\n",
    "    def score(self, X, y):\n",
    "        # compare predicted labels with actual labels\n",
    "        predictions = self.predict(X)\n",
    "        return np.mean(np.array(predictions) == np.array(y)) "
   ]
  },
  {
   "cell_type": "code",
   "execution_count": 183,
   "metadata": {},
   "outputs": [],
   "source": [
    "# Use tensor flow to create the network, wrap it with sklearn\n",
    "class BNN(BaseEstimator, ClassifierMixin):\n",
    "    def __init__(self, T=10, **MLPkwargs):\n",
    "        self.T = T\n",
    "        self.clf = MLPClassifier(**MLPkwargs)\n",
    "\n",
    "    def fit(self, X, y):\n",
    "        self.classes_ = np.unique(y)\n",
    "        self.clf.fit(X, y)\n",
    "\n",
    "    def predict_proba(self, X):\n",
    "        # predict T times and get mean\n",
    "        prob_sum = np.zeros((X.shape[0], len(self.classes_)))\n",
    "        for _ in range(self.T):\n",
    "            print(self.clf.predict(X))\n",
    "\n",
    "        return prob_sum / self.T\n",
    "\n",
    "    def predict(self, X):\n",
    "        # get probailities, return most likely label\n",
    "        predictions = self.predict_proba(X)\n",
    "        return np.argmax(predictions, axis=1)\n",
    "\n",
    "    def score(self, X, y):\n",
    "        # compare predicted labels with actual labels\n",
    "        predictions = self.predict(X)\n",
    "        return np.mean(np.array(predictions) == np.array(y)) "
   ]
  },
  {
   "cell_type": "code",
   "execution_count": 139,
   "metadata": {},
   "outputs": [],
   "source": [
    "def al_batch(clf, batch_size=1, iterations=1, data_size=100):\n",
    "    blockPrint()\n",
    "    base_clf = clf\n",
    "    data = []\n",
    "    qs = UncertaintySampling(method=\"entropy\")\n",
    "    for rand in range(iterations):\n",
    "        # Create the data\n",
    "        X, y = make_classification(n_samples=data_size*4, n_features=2, n_redundant=0, weights=[0.8,0.2], random_state=rand)\n",
    "        Xf, Xt, yf, yt = train_test_split(X, y, random_state=rand);\n",
    "        clf = SklearnClassifier(base_clf, classes=np.unique(yf))\n",
    "        y = np.full(shape=yf.shape, fill_value=MISSING_LABEL)\n",
    "\n",
    "        clf.fit(Xf, y)\n",
    "        out = []\n",
    "        for _ in range(int(data_size/3)):\n",
    "            query_idx = qs.query(Xf, y, clf=clf, batch_size=batch_size)\n",
    "            y[query_idx] = yf[query_idx]\n",
    "            clf.fit(Xf, y)\n",
    "            out.append(clf.score(Xt, yt))\n",
    "        data.append(out)\n",
    "    enablePrint()\n",
    "    return np.mean(np.array(data), axis=0)\n",
    "        "
   ]
  },
  {
   "cell_type": "code",
   "execution_count": 126,
   "metadata": {},
   "outputs": [],
   "source": [
    "batch1 = al_batch(DropoutBNN(), batch_size=1, iterations=5, data_size=60)"
   ]
  },
  {
   "cell_type": "code",
   "execution_count": 127,
   "metadata": {},
   "outputs": [],
   "source": [
    "batch2 = al_batch(DropoutBNN(), batch_size=2, iterations=5, data_size=60)"
   ]
  },
  {
   "cell_type": "code",
   "execution_count": 128,
   "metadata": {},
   "outputs": [],
   "source": [
    "batch3 = al_batch(DropoutBNN(), batch_size=3, iterations=5, data_size=60)"
   ]
  },
  {
   "cell_type": "code",
   "execution_count": 174,
   "metadata": {},
   "outputs": [],
   "source": [
    "batch4 = al_batch(DropoutBNN(hidden_layers_sizes=(10,), dropout_rate= 0, learning_rate=0.01), batch_size=5, iterations=1, data_size=600)"
   ]
  },
  {
   "cell_type": "code",
   "execution_count": 188,
   "metadata": {},
   "outputs": [],
   "source": [
    "atch3 = al_batch(MLPClassifier(), batch_size=4, iterations=5, data_size=600)"
   ]
  },
  {
   "cell_type": "code",
   "execution_count": 189,
   "metadata": {},
   "outputs": [
    {
     "data": {
      "text/plain": [
       "<matplotlib.legend.Legend at 0x7eff6f473d90>"
      ]
     },
     "execution_count": 189,
     "metadata": {},
     "output_type": "execute_result"
    },
    {
     "data": {
      "image/png": "[encoded data removed]",
      "text/plain": [
       "<Figure size 640x480 with 1 Axes>"
      ]
     },
     "metadata": {},
     "output_type": "display_data"
    }
   ],
   "source": [
    "#plt.plot(np.arange(20), batch1, label=f'Batch size 1')\n",
    "#plt.plot(np.arange(20), batch2, label=f'Batch size 2')\n",
    "#plt.plot(np.arange(20), batch3, label=f'Batch size 3')\n",
    "plt.plot(np.arange(200), atch3, label=f'Batch size 4')\n",
    "\n",
    "plt.legend()\n"
   ]
  },
  {
   "cell_type": "code",
   "execution_count": 176,
   "metadata": {},
   "outputs": [
    {
     "data": {
      "text/plain": [
       "(0.7423333333333334, 0.7038333333333332, 0.688, 0.6536166666666666)"
      ]
     },
     "execution_count": 176,
     "metadata": {},
     "output_type": "execute_result"
    }
   ],
   "source": [
    "(np.mean(batch1),np.mean(batch2),np.mean(batch3),np.mean(batch4),)"
   ]
  }
 ],
 "metadata": {
  "kernelspec": {
   "display_name": "ml-project",
   "language": "python",
   "name": "python3"
  },
  "language_info": {
   "codemirror_mode": {
    "name": "ipython",
    "version": 3
   },
   "file_extension": ".py",
   "mimetype": "text/x-python",
   "name": "python",
   "nbconvert_exporter": "python",
   "pygments_lexer": "ipython3",
   "version": "3.11.5"
  }
 },
 "nbformat": 4,
 "nbformat_minor": 2
}
