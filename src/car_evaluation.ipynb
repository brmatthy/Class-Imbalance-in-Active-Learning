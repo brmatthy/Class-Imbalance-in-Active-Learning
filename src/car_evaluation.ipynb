{
 "cells": [
  {
   "cell_type": "markdown",
   "metadata": {},
   "source": [
    "# Car evaluation (real data)"
   ]
  },
  {
   "cell_type": "markdown",
   "metadata": {},
   "source": [
    "In this notebook we take a look at another real life dataset. [source](http://archive.ics.uci.edu/dataset/19/car+evaluation)"
   ]
  },
  {
   "cell_type": "code",
   "execution_count": 1,
   "metadata": {},
   "outputs": [],
   "source": [
    "## Imports ##\n",
    "\n",
    "# numpy\n",
    "import numpy as np\n",
    "\n",
    "# matplotlib\n",
    "import matplotlib as mlp\n",
    "import matplotlib.pyplot as plt\n",
    "\n",
    "# sklearn\n",
    "from sklearn.linear_model import LogisticRegression\n",
    "from sklearn.neural_network import MLPClassifier\n",
    "from sklearn.datasets import make_classification\n",
    "from sklearn.model_selection import train_test_split\n",
    "\n",
    "# skactiveml\n",
    "from skactiveml.classifier import SklearnClassifier\n",
    "from skactiveml.pool import UncertaintySampling\n",
    "from skactiveml.pool import RandomSampling\n",
    "from skactiveml.utils import MISSING_LABEL\n",
    "\n",
    "# plot function\n",
    "from plot_accuracy import plot_accuracy\n",
    "\n",
    "# balanced accuracy\n",
    "from balanced_accuracy import balanced_accuracy, gmean\n",
    "\n",
    "# set warnings\n",
    "import warnings\n",
    "mlp.rcParams[\"figure.facecolor\"] = \"white\"\n",
    "warnings.filterwarnings(\"ignore\")"
   ]
  },
  {
   "cell_type": "code",
   "execution_count": 2,
   "metadata": {},
   "outputs": [
    {
     "name": "stdout",
     "output_type": "stream",
     "text": [
      "     buying  maint  doors persons lug_boot safety\n",
      "0     vhigh  vhigh      2       2    small    low\n",
      "1     vhigh  vhigh      2       2    small    med\n",
      "2     vhigh  vhigh      2       2    small   high\n",
      "3     vhigh  vhigh      2       2      med    low\n",
      "4     vhigh  vhigh      2       2      med    med\n",
      "...     ...    ...    ...     ...      ...    ...\n",
      "1723    low    low  5more    more      med    med\n",
      "1724    low    low  5more    more      med   high\n",
      "1725    low    low  5more    more      big    low\n",
      "1726    low    low  5more    more      big    med\n",
      "1727    low    low  5more    more      big   high\n",
      "\n",
      "[1728 rows x 6 columns]\n",
      "      class\n",
      "0     unacc\n",
      "1     unacc\n",
      "2     unacc\n",
      "3     unacc\n",
      "4     unacc\n",
      "...     ...\n",
      "1723   good\n",
      "1724  vgood\n",
      "1725  unacc\n",
      "1726   good\n",
      "1727  vgood\n",
      "\n",
      "[1728 rows x 1 columns]\n"
     ]
    }
   ],
   "source": [
    "from ucimlrepo import fetch_ucirepo\n",
    "\n",
    "# fetch dataset\n",
    "car_evaluation = fetch_ucirepo(id=19)\n",
    "\n",
    "# data (as pandas dataframes)\n",
    "actual_X = car_evaluation.data.features\n",
    "actual_y = car_evaluation.data.targets\n",
    "\n",
    "print(actual_X)\n",
    "print(actual_y)"
   ]
  },
  {
   "cell_type": "code",
   "execution_count": 3,
   "metadata": {},
   "outputs": [
    {
     "name": "stdout",
     "output_type": "stream",
     "text": [
      "unacc: 1210, acc: 384, good: 69 & vgood: 65\n"
     ]
    }
   ],
   "source": [
    "unacc = 0\n",
    "acc = 0\n",
    "good = 0\n",
    "vgood = 0\n",
    "\n",
    "y = []\n",
    "\n",
    "for label in actual_y[\"class\"]:\n",
    "    if label == 'unacc':\n",
    "        unacc += 1\n",
    "        y.append(0)\n",
    "    elif label == 'acc':\n",
    "        acc += 1\n",
    "        y.append(0)\n",
    "    elif label == 'good':\n",
    "        good += 1\n",
    "        y.append(1)\n",
    "    elif label == 'vgood':\n",
    "        vgood += 1\n",
    "        y.append(1)\n",
    "    else:\n",
    "        raise ValueError('All features should be labeled by the above classes')\n",
    "    \n",
    "X = np.zeros((len(actual_X), len(actual_X[\"buying\"])))\n",
    "\n",
    "for i, row in actual_X.iterrows():\n",
    "    non_labeled = False\n",
    "    \n",
    "    if row[\"buying\"] == 'low':\n",
    "        X[i][0] = 0\n",
    "    elif row[\"buying\"] == 'med':\n",
    "        X[i][0] = 1\n",
    "    elif row[\"buying\"] == 'high':\n",
    "        X[i][0] = 2\n",
    "    elif row[\"buying\"] == 'vhigh':\n",
    "        X[i][0] = 3\n",
    "    else:\n",
    "        non_labeled = True\n",
    "    \n",
    "    if row[\"maint\"] == 'low':\n",
    "        X[i][1] = 0\n",
    "    elif row[\"maint\"] == 'med':\n",
    "        X[i][1] = 1\n",
    "    elif row[\"maint\"] == 'high':\n",
    "        X[i][1] = 2\n",
    "    elif row[\"maint\"] == 'vhigh':\n",
    "        X[i][1] = 3\n",
    "    else:\n",
    "        non_labeled = True\n",
    "        \n",
    "    if row[\"doors\"] == '2':\n",
    "        X[i][2] = 0\n",
    "    elif row[\"doors\"] == '3':\n",
    "        X[i][2] = 1\n",
    "    elif row[\"doors\"] == '4':\n",
    "        X[i][2] = 2\n",
    "    elif row[\"doors\"] == '5more':\n",
    "        X[i][2] = 3\n",
    "    else:\n",
    "        non_labeled = True\n",
    "        \n",
    "    if row[\"persons\"] == '2':\n",
    "        X[i][3] = 0\n",
    "    elif row[\"persons\"] == '4':\n",
    "        X[i][3] = 1\n",
    "    elif row[\"persons\"] == 'more':\n",
    "        X[i][3] = 2\n",
    "    else:\n",
    "        non_labeled = True\n",
    "        \n",
    "    if row[\"lug_boot\"] == 'small':\n",
    "        X[i][4] = 0\n",
    "    elif row[\"lug_boot\"] == 'med':\n",
    "        X[i][4] = 1\n",
    "    elif row[\"lug_boot\"] == 'big':\n",
    "        X[i][4] = 2\n",
    "    else:\n",
    "        non_labeled = True\n",
    "        \n",
    "    if row[\"safety\"] == 'low':\n",
    "        X[i][5] = 0\n",
    "    elif row[\"safety\"] == 'med':\n",
    "        X[i][5] = 1\n",
    "    elif row[\"safety\"] == 'high':\n",
    "        X[i][5] = 2\n",
    "    else:\n",
    "        non_labeled = True\n",
    "        \n",
    "    if non_labeled:\n",
    "        raise ValueError('All features should be labeled by the above classes')\n",
    "        \n",
    "X = np.array(X)\n",
    "y = np.array(y)\n",
    "\n",
    "print(f'unacc: {unacc}, acc: {acc}, good: {good} & vgood: {vgood}')"
   ]
  },
  {
   "cell_type": "markdown",
   "metadata": {},
   "source": [
    "This dataset is clearly very imbalanced, a lot of cars are totally unacceptable and we want our model to filter out the bad samples with fairly accurate precision."
   ]
  },
  {
   "cell_type": "code",
   "execution_count": 4,
   "metadata": {},
   "outputs": [],
   "source": [
    "def get_accuracy(qs, classifier, X, y):\n",
    "    out = []\n",
    "    Xf, Xt, yf, yt = train_test_split(X, y)\n",
    "    y_known = np.full(shape=yf.shape, fill_value=MISSING_LABEL)\n",
    "    classes = np.unique(y)\n",
    "    clf = SklearnClassifier(classifier, classes=classes)\n",
    "    \n",
    "    i = np.where(yf==0)[0][0]\n",
    "    y_known[i] = yf[i]\n",
    "    j = np.where(yf==1)[0][0]\n",
    "    y_known[j] = yf[j]\n",
    "    \n",
    "    clf.fit(Xf, y_known)\n",
    "    for _ in range(len(yf)-2):\n",
    "        i = qs.query(Xf, y_known) if type(qs) == RandomSampling else qs.query(Xf, y_known, clf)\n",
    "        y_known[i] = yf[i]\n",
    "        clf.fit(Xf, y_known)\n",
    "        prediction = clf.predict(Xt)\n",
    "        balanced_acc = balanced_accuracy(yt, prediction)\n",
    "        out.append(balanced_acc)\n",
    "    return out\n"
   ]
  },
  {
   "cell_type": "markdown",
   "metadata": {},
   "source": [
    "For some reason the code of skactiveml is wrong? Change line 634 of /venv/lib/python3.11/site-packages/sklearn/utils/validation.py to dtype=None,"
   ]
  },
  {
   "cell_type": "markdown",
   "metadata": {},
   "source": [
    "Firstly we take a look at the effect of active learning"
   ]
  },
  {
   "cell_type": "code",
   "execution_count": 5,
   "metadata": {},
   "outputs": [],
   "source": [
    "acc_random = get_accuracy(RandomSampling(), LogisticRegression(), X, y)"
   ]
  },
  {
   "cell_type": "code",
   "execution_count": 6,
   "metadata": {},
   "outputs": [],
   "source": [
    "acc_uncertainty = get_accuracy(UncertaintySampling(), LogisticRegression(), X, y)"
   ]
  },
  {
   "cell_type": "code",
   "execution_count": 7,
   "metadata": {},
   "outputs": [
    {
     "data": {
      "image/png": "[encoded data removed]",
      "text/plain": [
       "<Figure size 1000x600 with 1 Axes>"
      ]
     },
     "metadata": {},
     "output_type": "display_data"
    }
   ],
   "source": [
    "fig, axs = plt.subplots(nrows=1, ncols=1, figsize=(10, 6))\n",
    "\n",
    "plot_accuracy('Car evaluation', [[acc_random, \"No active learning (RandomSampling)\"], \n",
    "                                 [acc_uncertainty, \"Active learning (UncertaintySampling)\"]],\n",
    "              axs)\n",
    "\n",
    "fig.show()"
   ]
  },
  {
   "cell_type": "markdown",
   "metadata": {},
   "source": [
    "Then we use MLP"
   ]
  },
  {
   "cell_type": "code",
   "execution_count": 8,
   "metadata": {},
   "outputs": [
    {
     "ename": "TypeError",
     "evalue": "UncertaintySampling.query() missing 1 required positional argument: 'clf'",
     "output_type": "error",
     "traceback": [
      "\u001b[0;31m---------------------------------------------------------------------------\u001b[0m",
      "\u001b[0;31mTypeError\u001b[0m                                 Traceback (most recent call last)",
      "Cell \u001b[0;32mIn[8], line 1\u001b[0m\n\u001b[0;32m----> 1\u001b[0m acc_MLP \u001b[38;5;241m=\u001b[39m \u001b[43mget_accuracy\u001b[49m\u001b[43m(\u001b[49m\u001b[43mUncertaintySampling\u001b[49m\u001b[43m,\u001b[49m\u001b[43m \u001b[49m\u001b[43mMLPClassifier\u001b[49m\u001b[43m(\u001b[49m\u001b[43m)\u001b[49m\u001b[43m,\u001b[49m\u001b[43m \u001b[49m\u001b[43mX\u001b[49m\u001b[43m,\u001b[49m\u001b[43m \u001b[49m\u001b[43my\u001b[49m\u001b[43m)\u001b[49m\n",
      "Cell \u001b[0;32mIn[4], line 15\u001b[0m, in \u001b[0;36mget_accuracy\u001b[0;34m(qs, classifier, X, y)\u001b[0m\n\u001b[1;32m     13\u001b[0m clf\u001b[38;5;241m.\u001b[39mfit(Xf, y_known)\n\u001b[1;32m     14\u001b[0m \u001b[38;5;28;01mfor\u001b[39;00m _ \u001b[38;5;129;01min\u001b[39;00m \u001b[38;5;28mrange\u001b[39m(\u001b[38;5;28mlen\u001b[39m(yf)\u001b[38;5;241m-\u001b[39m\u001b[38;5;241m2\u001b[39m):\n\u001b[0;32m---> 15\u001b[0m     i \u001b[38;5;241m=\u001b[39m qs\u001b[38;5;241m.\u001b[39mquery(Xf, y_known) \u001b[38;5;28;01mif\u001b[39;00m \u001b[38;5;28mtype\u001b[39m(qs) \u001b[38;5;241m==\u001b[39m RandomSampling \u001b[38;5;28;01melse\u001b[39;00m \u001b[43mqs\u001b[49m\u001b[38;5;241;43m.\u001b[39;49m\u001b[43mquery\u001b[49m\u001b[43m(\u001b[49m\u001b[43mXf\u001b[49m\u001b[43m,\u001b[49m\u001b[43m \u001b[49m\u001b[43my_known\u001b[49m\u001b[43m,\u001b[49m\u001b[43m \u001b[49m\u001b[43mclf\u001b[49m\u001b[43m)\u001b[49m\n\u001b[1;32m     16\u001b[0m     y_known[i] \u001b[38;5;241m=\u001b[39m yf[i]\n\u001b[1;32m     17\u001b[0m     clf\u001b[38;5;241m.\u001b[39mfit(Xf, y_known)\n",
      "\u001b[0;31mTypeError\u001b[0m: UncertaintySampling.query() missing 1 required positional argument: 'clf'"
     ]
    }
   ],
   "source": [
    "acc_MLP = get_accuracy(UncertaintySampling, MLPClassifier(), X, y)"
   ]
  },
  {
   "cell_type": "code",
   "execution_count": null,
   "metadata": {},
   "outputs": [],
   "source": [
    "fig, axs = plt.subplots(nrows=1, ncols=1, figsize=(10, 6))\n",
    "\n",
    "plot_accuracy('Car evaluation', [[acc_MLP, \"MLPClassifier\"]], axs)\n",
    "\n",
    "fig.show()"
   ]
  },
  {
   "cell_type": "code",
   "execution_count": null,
   "metadata": {},
   "outputs": [],
   "source": []
  }
 ],
 "metadata": {
  "kernelspec": {
   "display_name": "Python 3 (ipykernel)",
   "language": "python",
   "name": "python3"
  },
  "language_info": {
   "codemirror_mode": {
    "name": "ipython",
    "version": 3
   },
   "file_extension": ".py",
   "mimetype": "text/x-python",
   "name": "python",
   "nbconvert_exporter": "python",
   "pygments_lexer": "ipython3",
   "version": "3.11.6"
  }
 },
 "nbformat": 4,
 "nbformat_minor": 1
}
